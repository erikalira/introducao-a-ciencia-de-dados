{
  "nbformat": 4,
  "nbformat_minor": 0,
  "metadata": {
    "kernelspec": {
      "display_name": "icd",
      "language": "python",
      "name": "icd"
    },
    "language_info": {
      "codemirror_mode": {
        "name": "ipython",
        "version": 3
      },
      "file_extension": ".py",
      "mimetype": "text/x-python",
      "name": "python",
      "nbconvert_exporter": "python",
      "pygments_lexer": "ipython3",
      "version": "3.7.7"
    },
    "colab": {
      "name": "Exerccio_-_Pandas.ipynb",
      "provenance": [],
      "collapsed_sections": [],
      "include_colab_link": true
    }
  },
  "cells": [
    {
      "cell_type": "markdown",
      "metadata": {
        "id": "view-in-github",
        "colab_type": "text"
      },
      "source": [
        "<a href=\"https://colab.research.google.com/github/erikalira/introducao-a-ciencia-de-dados/blob/main/Exerccio___Pandas.ipynb\" target=\"_parent\"><img src=\"https://colab.research.google.com/assets/colab-badge.svg\" alt=\"Open In Colab\"/></a>"
      ]
    },
    {
      "cell_type": "markdown",
      "metadata": {
        "id": "-QA-as58Umgl"
      },
      "source": [
        "# Introdução à Ciência de Dados - UFPB\n",
        "Professor: Yuri Malheiros\n",
        "\n",
        "## Pandas"
      ]
    },
    {
      "cell_type": "code",
      "metadata": {
        "colab": {
          "base_uri": "https://localhost:8080/"
        },
        "id": "s9-Dyua7U-yJ",
        "outputId": "9efcfb7f-e5e7-4daf-c850-8b104ee3a9fa"
      },
      "source": [
        "from google.colab import drive\n",
        "drive.mount('/content/drive')"
      ],
      "execution_count": null,
      "outputs": [
        {
          "output_type": "stream",
          "text": [
            "Drive already mounted at /content/drive; to attempt to forcibly remount, call drive.mount(\"/content/drive\", force_remount=True).\n"
          ],
          "name": "stdout"
        }
      ]
    },
    {
      "cell_type": "markdown",
      "metadata": {
        "id": "_F8MtQ24Umgp"
      },
      "source": [
        "A partir do dataset `movies.csv` utilize o Pandas para responder as seguintes perguntas:"
      ]
    },
    {
      "cell_type": "markdown",
      "metadata": {
        "id": "kge4uK_8Umgp"
      },
      "source": [
        "### Qual o gênero de filme mais lucrativo em todo o mundo?"
      ]
    },
    {
      "cell_type": "code",
      "metadata": {
        "id": "_vng6S08Umgq"
      },
      "source": [
        "import pandas as pd\n",
        "\n",
        "movies = pd.read_csv(\"movies.csv\")"
      ],
      "execution_count": null,
      "outputs": []
    },
    {
      "cell_type": "code",
      "metadata": {
        "colab": {
          "base_uri": "https://localhost:8080/"
        },
        "id": "9AnkzLKoXySC",
        "outputId": "1e2ebb22-f0f8-4366-b5c8-05d5f23df876"
      },
      "source": [
        "movies.columns"
      ],
      "execution_count": null,
      "outputs": [
        {
          "output_type": "execute_result",
          "data": {
            "text/plain": [
              "Index(['Title', 'US Gross', 'Worldwide Gross', 'US DVD Sales',\n",
              "       'Production Budget', 'Release Date', 'MPAA Rating',\n",
              "       'Running Time (min)', 'Distributor', 'Source', 'Major Genre',\n",
              "       'Creative Type', 'Director', 'Rotten Tomatoes Rating', 'IMDB Rating',\n",
              "       'IMDB Votes'],\n",
              "      dtype='object')"
            ]
          },
          "metadata": {
            "tags": []
          },
          "execution_count": 3
        }
      ]
    },
    {
      "cell_type": "code",
      "metadata": {
        "colab": {
          "base_uri": "https://localhost:8080/",
          "height": 452
        },
        "id": "kWdxKFIdWyPM",
        "outputId": "48b2322c-a151-436d-eff9-1d4dc40159c3"
      },
      "source": [
        "movies.groupby('Major Genre').sum().sort_values(by='Worldwide Gross', ascending=False)"
      ],
      "execution_count": null,
      "outputs": [
        {
          "output_type": "execute_result",
          "data": {
            "text/html": [
              "<div>\n",
              "<style scoped>\n",
              "    .dataframe tbody tr th:only-of-type {\n",
              "        vertical-align: middle;\n",
              "    }\n",
              "\n",
              "    .dataframe tbody tr th {\n",
              "        vertical-align: top;\n",
              "    }\n",
              "\n",
              "    .dataframe thead th {\n",
              "        text-align: right;\n",
              "    }\n",
              "</style>\n",
              "<table border=\"1\" class=\"dataframe\">\n",
              "  <thead>\n",
              "    <tr style=\"text-align: right;\">\n",
              "      <th></th>\n",
              "      <th>US Gross</th>\n",
              "      <th>Worldwide Gross</th>\n",
              "      <th>US DVD Sales</th>\n",
              "      <th>Production Budget</th>\n",
              "      <th>Running Time (min)</th>\n",
              "      <th>Rotten Tomatoes Rating</th>\n",
              "      <th>IMDB Rating</th>\n",
              "      <th>IMDB Votes</th>\n",
              "    </tr>\n",
              "    <tr>\n",
              "      <th>Major Genre</th>\n",
              "      <th></th>\n",
              "      <th></th>\n",
              "      <th></th>\n",
              "      <th></th>\n",
              "      <th></th>\n",
              "      <th></th>\n",
              "      <th></th>\n",
              "      <th></th>\n",
              "    </tr>\n",
              "  </thead>\n",
              "  <tbody>\n",
              "    <tr>\n",
              "      <th>Adventure</th>\n",
              "      <td>2.861863e+10</td>\n",
              "      <td>6.608096e+10</td>\n",
              "      <td>4.918171e+09</td>\n",
              "      <td>1.886290e+10</td>\n",
              "      <td>16942.0</td>\n",
              "      <td>11428.0</td>\n",
              "      <td>1592.6</td>\n",
              "      <td>11182880.0</td>\n",
              "    </tr>\n",
              "    <tr>\n",
              "      <th>Action</th>\n",
              "      <td>2.703124e+10</td>\n",
              "      <td>6.043561e+10</td>\n",
              "      <td>3.594649e+09</td>\n",
              "      <td>2.296818e+10</td>\n",
              "      <td>22075.0</td>\n",
              "      <td>15183.0</td>\n",
              "      <td>2397.0</td>\n",
              "      <td>17908346.0</td>\n",
              "    </tr>\n",
              "    <tr>\n",
              "      <th>Comedy</th>\n",
              "      <td>3.087863e+10</td>\n",
              "      <td>5.038405e+10</td>\n",
              "      <td>4.341105e+09</td>\n",
              "      <td>1.915646e+10</td>\n",
              "      <td>28291.0</td>\n",
              "      <td>25180.0</td>\n",
              "      <td>3717.2</td>\n",
              "      <td>14894832.0</td>\n",
              "    </tr>\n",
              "    <tr>\n",
              "      <th>Drama</th>\n",
              "      <td>2.306271e+10</td>\n",
              "      <td>4.047617e+10</td>\n",
              "      <td>3.154629e+09</td>\n",
              "      <td>1.781721e+10</td>\n",
              "      <td>34028.0</td>\n",
              "      <td>36557.0</td>\n",
              "      <td>4998.8</td>\n",
              "      <td>21678623.0</td>\n",
              "    </tr>\n",
              "    <tr>\n",
              "      <th>Thriller/Suspense</th>\n",
              "      <td>9.660913e+09</td>\n",
              "      <td>1.926069e+10</td>\n",
              "      <td>1.230243e+09</td>\n",
              "      <td>7.887614e+09</td>\n",
              "      <td>12208.0</td>\n",
              "      <td>8988.0</td>\n",
              "      <td>1482.1</td>\n",
              "      <td>8197929.0</td>\n",
              "    </tr>\n",
              "    <tr>\n",
              "      <th>Horror</th>\n",
              "      <td>7.773517e+09</td>\n",
              "      <td>1.332168e+10</td>\n",
              "      <td>9.922714e+08</td>\n",
              "      <td>4.057171e+09</td>\n",
              "      <td>7799.0</td>\n",
              "      <td>6102.0</td>\n",
              "      <td>1186.3</td>\n",
              "      <td>5786875.0</td>\n",
              "    </tr>\n",
              "    <tr>\n",
              "      <th>Romantic Comedy</th>\n",
              "      <td>6.154528e+09</td>\n",
              "      <td>1.186665e+10</td>\n",
              "      <td>8.357459e+08</td>\n",
              "      <td>3.884225e+09</td>\n",
              "      <td>6885.0</td>\n",
              "      <td>4993.0</td>\n",
              "      <td>763.5</td>\n",
              "      <td>2770706.0</td>\n",
              "    </tr>\n",
              "    <tr>\n",
              "      <th>Musical</th>\n",
              "      <td>2.291654e+09</td>\n",
              "      <td>3.904838e+09</td>\n",
              "      <td>3.089832e+08</td>\n",
              "      <td>1.133018e+09</td>\n",
              "      <td>1386.0</td>\n",
              "      <td>2652.0</td>\n",
              "      <td>322.4</td>\n",
              "      <td>1053947.0</td>\n",
              "    </tr>\n",
              "    <tr>\n",
              "      <th>Western</th>\n",
              "      <td>9.364843e+08</td>\n",
              "      <td>1.301373e+09</td>\n",
              "      <td>7.985138e+07</td>\n",
              "      <td>9.053219e+08</td>\n",
              "      <td>1046.0</td>\n",
              "      <td>1820.0</td>\n",
              "      <td>239.5</td>\n",
              "      <td>831120.0</td>\n",
              "    </tr>\n",
              "    <tr>\n",
              "      <th>Black Comedy</th>\n",
              "      <td>4.976890e+08</td>\n",
              "      <td>8.246719e+08</td>\n",
              "      <td>4.489035e+07</td>\n",
              "      <td>4.613500e+08</td>\n",
              "      <td>1370.0</td>\n",
              "      <td>1581.0</td>\n",
              "      <td>218.2</td>\n",
              "      <td>1241869.0</td>\n",
              "    </tr>\n",
              "    <tr>\n",
              "      <th>Documentary</th>\n",
              "      <td>3.968759e+08</td>\n",
              "      <td>6.989444e+08</td>\n",
              "      <td>1.121315e+08</td>\n",
              "      <td>1.812713e+08</td>\n",
              "      <td>449.0</td>\n",
              "      <td>1704.0</td>\n",
              "      <td>258.9</td>\n",
              "      <td>358850.0</td>\n",
              "    </tr>\n",
              "    <tr>\n",
              "      <th>Concert/Performance</th>\n",
              "      <td>1.352530e+08</td>\n",
              "      <td>1.536220e+08</td>\n",
              "      <td>1.815474e+07</td>\n",
              "      <td>3.050000e+07</td>\n",
              "      <td>201.0</td>\n",
              "      <td>200.0</td>\n",
              "      <td>25.3</td>\n",
              "      <td>7015.0</td>\n",
              "    </tr>\n",
              "  </tbody>\n",
              "</table>\n",
              "</div>"
            ],
            "text/plain": [
              "                         US Gross  Worldwide Gross  ...  IMDB Rating  IMDB Votes\n",
              "Major Genre                                         ...                         \n",
              "Adventure            2.861863e+10     6.608096e+10  ...       1592.6  11182880.0\n",
              "Action               2.703124e+10     6.043561e+10  ...       2397.0  17908346.0\n",
              "Comedy               3.087863e+10     5.038405e+10  ...       3717.2  14894832.0\n",
              "Drama                2.306271e+10     4.047617e+10  ...       4998.8  21678623.0\n",
              "Thriller/Suspense    9.660913e+09     1.926069e+10  ...       1482.1   8197929.0\n",
              "Horror               7.773517e+09     1.332168e+10  ...       1186.3   5786875.0\n",
              "Romantic Comedy      6.154528e+09     1.186665e+10  ...        763.5   2770706.0\n",
              "Musical              2.291654e+09     3.904838e+09  ...        322.4   1053947.0\n",
              "Western              9.364843e+08     1.301373e+09  ...        239.5    831120.0\n",
              "Black Comedy         4.976890e+08     8.246719e+08  ...        218.2   1241869.0\n",
              "Documentary          3.968759e+08     6.989444e+08  ...        258.9    358850.0\n",
              "Concert/Performance  1.352530e+08     1.536220e+08  ...         25.3      7015.0\n",
              "\n",
              "[12 rows x 8 columns]"
            ]
          },
          "metadata": {
            "tags": []
          },
          "execution_count": 4
        }
      ]
    },
    {
      "cell_type": "markdown",
      "metadata": {
        "id": "Q14m5VQMcgHC"
      },
      "source": [
        "R: O gênero mais lucrativo é Aventura"
      ]
    },
    {
      "cell_type": "markdown",
      "metadata": {
        "id": "sV2Kb3GbUmgq"
      },
      "source": [
        "### Qual o diretor dirigiu mais filmes?"
      ]
    },
    {
      "cell_type": "code",
      "metadata": {
        "colab": {
          "base_uri": "https://localhost:8080/",
          "height": 450
        },
        "id": "apLxdHuBUmgq",
        "outputId": "e09109ea-546f-4a62-87e0-cc273b077ab1"
      },
      "source": [
        "movies.groupby('Director')['Director'].value_counts().to_frame('count').sort_values(by='count', ascending=False)"
      ],
      "execution_count": null,
      "outputs": [
        {
          "output_type": "execute_result",
          "data": {
            "text/html": [
              "<div>\n",
              "<style scoped>\n",
              "    .dataframe tbody tr th:only-of-type {\n",
              "        vertical-align: middle;\n",
              "    }\n",
              "\n",
              "    .dataframe tbody tr th {\n",
              "        vertical-align: top;\n",
              "    }\n",
              "\n",
              "    .dataframe thead th {\n",
              "        text-align: right;\n",
              "    }\n",
              "</style>\n",
              "<table border=\"1\" class=\"dataframe\">\n",
              "  <thead>\n",
              "    <tr style=\"text-align: right;\">\n",
              "      <th></th>\n",
              "      <th></th>\n",
              "      <th>count</th>\n",
              "    </tr>\n",
              "    <tr>\n",
              "      <th>Director</th>\n",
              "      <th>Director</th>\n",
              "      <th></th>\n",
              "    </tr>\n",
              "  </thead>\n",
              "  <tbody>\n",
              "    <tr>\n",
              "      <th>Steven Spielberg</th>\n",
              "      <th>Steven Spielberg</th>\n",
              "      <td>23</td>\n",
              "    </tr>\n",
              "    <tr>\n",
              "      <th>Woody Allen</th>\n",
              "      <th>Woody Allen</th>\n",
              "      <td>16</td>\n",
              "    </tr>\n",
              "    <tr>\n",
              "      <th>Spike Lee</th>\n",
              "      <th>Spike Lee</th>\n",
              "      <td>15</td>\n",
              "    </tr>\n",
              "    <tr>\n",
              "      <th>Martin Scorsese</th>\n",
              "      <th>Martin Scorsese</th>\n",
              "      <td>15</td>\n",
              "    </tr>\n",
              "    <tr>\n",
              "      <th>Ridley Scott</th>\n",
              "      <th>Ridley Scott</th>\n",
              "      <td>14</td>\n",
              "    </tr>\n",
              "    <tr>\n",
              "      <th>...</th>\n",
              "      <th>...</th>\n",
              "      <td>...</td>\n",
              "    </tr>\n",
              "    <tr>\n",
              "      <th>Mark Duplass</th>\n",
              "      <th>Mark Duplass</th>\n",
              "      <td>1</td>\n",
              "    </tr>\n",
              "    <tr>\n",
              "      <th>Martha Coolidge</th>\n",
              "      <th>Martha Coolidge</th>\n",
              "      <td>1</td>\n",
              "    </tr>\n",
              "    <tr>\n",
              "      <th>Mary Harron</th>\n",
              "      <th>Mary Harron</th>\n",
              "      <td>1</td>\n",
              "    </tr>\n",
              "    <tr>\n",
              "      <th>Mathieu Kassovitz</th>\n",
              "      <th>Mathieu Kassovitz</th>\n",
              "      <td>1</td>\n",
              "    </tr>\n",
              "    <tr>\n",
              "      <th>Zak Penn</th>\n",
              "      <th>Zak Penn</th>\n",
              "      <td>1</td>\n",
              "    </tr>\n",
              "  </tbody>\n",
              "</table>\n",
              "<p>550 rows × 1 columns</p>\n",
              "</div>"
            ],
            "text/plain": [
              "                                     count\n",
              "Director          Director                \n",
              "Steven Spielberg  Steven Spielberg      23\n",
              "Woody Allen       Woody Allen           16\n",
              "Spike Lee         Spike Lee             15\n",
              "Martin Scorsese   Martin Scorsese       15\n",
              "Ridley Scott      Ridley Scott          14\n",
              "...                                    ...\n",
              "Mark Duplass      Mark Duplass           1\n",
              "Martha Coolidge   Martha Coolidge        1\n",
              "Mary Harron       Mary Harron            1\n",
              "Mathieu Kassovitz Mathieu Kassovitz      1\n",
              "Zak Penn          Zak Penn               1\n",
              "\n",
              "[550 rows x 1 columns]"
            ]
          },
          "metadata": {
            "tags": []
          },
          "execution_count": 5
        }
      ]
    },
    {
      "cell_type": "markdown",
      "metadata": {
        "id": "4bX14x0IeqfH"
      },
      "source": [
        "R: Steven Spielberg"
      ]
    },
    {
      "cell_type": "markdown",
      "metadata": {
        "id": "_ER7vG6qUmgq"
      },
      "source": [
        "### Quais filmes tiverem os maiores arrecadações (Gross) em relação ao orçamento de produção (Budget)?"
      ]
    },
    {
      "cell_type": "code",
      "metadata": {
        "colab": {
          "base_uri": "https://localhost:8080/",
          "height": 419
        },
        "id": "KHXU1FraUmgr",
        "outputId": "021c3947-23c6-4ae1-c454-82d7af415655"
      },
      "source": [
        "movies['Gross/Budget'] = movies['Worldwide Gross'] / movies['Production Budget']\n",
        "movies.sort_values(by='Gross/Budget', ascending=False)[['Title','Gross/Budget']]"
      ],
      "execution_count": null,
      "outputs": [
        {
          "output_type": "execute_result",
          "data": {
            "text/html": [
              "<div>\n",
              "<style scoped>\n",
              "    .dataframe tbody tr th:only-of-type {\n",
              "        vertical-align: middle;\n",
              "    }\n",
              "\n",
              "    .dataframe tbody tr th {\n",
              "        vertical-align: top;\n",
              "    }\n",
              "\n",
              "    .dataframe thead th {\n",
              "        text-align: right;\n",
              "    }\n",
              "</style>\n",
              "<table border=\"1\" class=\"dataframe\">\n",
              "  <thead>\n",
              "    <tr style=\"text-align: right;\">\n",
              "      <th></th>\n",
              "      <th>Title</th>\n",
              "      <th>Gross/Budget</th>\n",
              "    </tr>\n",
              "  </thead>\n",
              "  <tbody>\n",
              "    <tr>\n",
              "      <th>2526</th>\n",
              "      <td>Paranormal Activity</td>\n",
              "      <td>12918.030200</td>\n",
              "    </tr>\n",
              "    <tr>\n",
              "      <th>2920</th>\n",
              "      <td>Tarnation</td>\n",
              "      <td>5330.339450</td>\n",
              "    </tr>\n",
              "    <tr>\n",
              "      <th>244</th>\n",
              "      <td>Deep Throat</td>\n",
              "      <td>1800.000000</td>\n",
              "    </tr>\n",
              "    <tr>\n",
              "      <th>603</th>\n",
              "      <td>Mad Max</td>\n",
              "      <td>498.750000</td>\n",
              "    </tr>\n",
              "    <tr>\n",
              "      <th>2758</th>\n",
              "      <td>Super Size Me</td>\n",
              "      <td>454.297969</td>\n",
              "    </tr>\n",
              "    <tr>\n",
              "      <th>...</th>\n",
              "      <td>...</td>\n",
              "      <td>...</td>\n",
              "    </tr>\n",
              "    <tr>\n",
              "      <th>404</th>\n",
              "      <td>Hell's Angels</td>\n",
              "      <td>NaN</td>\n",
              "    </tr>\n",
              "    <tr>\n",
              "      <th>467</th>\n",
              "      <td>Intolerance</td>\n",
              "      <td>NaN</td>\n",
              "    </tr>\n",
              "    <tr>\n",
              "      <th>1025</th>\n",
              "      <td>Waterloo</td>\n",
              "      <td>NaN</td>\n",
              "    </tr>\n",
              "    <tr>\n",
              "      <th>1028</th>\n",
              "      <td>Wings</td>\n",
              "      <td>NaN</td>\n",
              "    </tr>\n",
              "    <tr>\n",
              "      <th>1271</th>\n",
              "      <td>Baby Mama</td>\n",
              "      <td>NaN</td>\n",
              "    </tr>\n",
              "  </tbody>\n",
              "</table>\n",
              "<p>3201 rows × 2 columns</p>\n",
              "</div>"
            ],
            "text/plain": [
              "                    Title  Gross/Budget\n",
              "2526  Paranormal Activity  12918.030200\n",
              "2920            Tarnation   5330.339450\n",
              "244           Deep Throat   1800.000000\n",
              "603               Mad Max    498.750000\n",
              "2758        Super Size Me    454.297969\n",
              "...                   ...           ...\n",
              "404         Hell's Angels           NaN\n",
              "467           Intolerance           NaN\n",
              "1025             Waterloo           NaN\n",
              "1028                Wings           NaN\n",
              "1271            Baby Mama           NaN\n",
              "\n",
              "[3201 rows x 2 columns]"
            ]
          },
          "metadata": {
            "tags": []
          },
          "execution_count": 6
        }
      ]
    },
    {
      "cell_type": "markdown",
      "metadata": {
        "id": "IKt0Sy5rf9j6"
      },
      "source": [
        "R: Atividade Paranormal"
      ]
    }
  ]
}