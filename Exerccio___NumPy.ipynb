{
  "nbformat": 4,
  "nbformat_minor": 0,
  "metadata": {
    "kernelspec": {
      "display_name": "icd",
      "language": "python",
      "name": "icd"
    },
    "language_info": {
      "codemirror_mode": {
        "name": "ipython",
        "version": 3
      },
      "file_extension": ".py",
      "mimetype": "text/x-python",
      "name": "python",
      "nbconvert_exporter": "python",
      "pygments_lexer": "ipython3",
      "version": "3.7.7"
    },
    "colab": {
      "name": "Exerccio_-_NumPy.ipynb",
      "provenance": [],
      "collapsed_sections": []
    }
  },
  "cells": [
    {
      "cell_type": "markdown",
      "metadata": {
        "id": "OaVDx5M_gjvJ"
      },
      "source": [
        "# Introdução à Ciência de Dados - UFPB\n",
        "Professor: Yuri Malheiros\n",
        "\n",
        "## NumPy"
      ]
    },
    {
      "cell_type": "markdown",
      "metadata": {
        "id": "oTB9B3nTgjvK"
      },
      "source": [
        "Implemente a função `distance` abaixo. Ela deve receber dois pontos e retornar a distância euclidiana entre eles. Cada ponto é representado por um array do NumPy, por exemplo, `p1 = np.array([2,4])` representa o ponto com coordenadas x=2 e y=2."
      ]
    },
    {
      "cell_type": "code",
      "metadata": {
        "id": "mkXOsdh_gjvL"
      },
      "source": [
        "import numpy as np\n",
        "\n",
        "def distance(p1, p2):\n",
        "    \"\"\"\n",
        "    >>> distance(np.array([0,0]), np.array([1,1]))\n",
        "    1.4142135623730951\n",
        "    \n",
        "    >>> distance(np.array([1,2]), np.array([3,4]))\n",
        "    2.8284271247461903\n",
        "    \n",
        "    >>> distance(np.array([5,2]), np.array([-2,-1]))\n",
        "    7.615773105863909\n",
        "    \"\"\"\n",
        "    # return np.sqrt(np.sum(np.square(p1-p2)))\n",
        "    return np.linalg.norm(p1-p2)"
      ],
      "execution_count": 1,
      "outputs": []
    },
    {
      "cell_type": "code",
      "metadata": {
        "colab": {
          "base_uri": "https://localhost:8080/"
        },
        "id": "1V8UcF9g0LJi",
        "outputId": "5df52250-994d-4aef-f1ea-49c36c786839"
      },
      "source": [
        "distance(np.array([5,2]), np.array([-2,-1]))"
      ],
      "execution_count": 2,
      "outputs": [
        {
          "output_type": "execute_result",
          "data": {
            "text/plain": [
              "7.615773105863909"
            ]
          },
          "metadata": {
            "tags": []
          },
          "execution_count": 2
        }
      ]
    },
    {
      "cell_type": "markdown",
      "metadata": {
        "id": "vhb0-QV7gjvL"
      },
      "source": [
        "Implemente a função `n_distances` abaixo. Ela recebe um ponto (`p1`), como um array do NumPy, e uma lista de pontos (`points`), uma matriz do NumPy, onde cada linha representa um ponto.\n",
        "\n",
        "Esta função deve retornar a distância de `p1` para todos os pontos da matriz `points`. O retorno também é uma matriz, onde cada linha tem a distância de `p1` para o ponto daquela linha."
      ]
    },
    {
      "cell_type": "code",
      "metadata": {
        "id": "LeKh5nxUgjvL"
      },
      "source": [
        "def n_distances(p1, points):\n",
        "    \"\"\"\n",
        "    >>> n_distances(np.array([0,0]), np.array([[1,1]]))\n",
        "    array([1.41421356])\n",
        "    \n",
        "    >>> n_distances(np.array([0,0]), np.array([[1,1], [2,2]]))\n",
        "    array([1.41421356, 2.82842712])\n",
        "    \n",
        "    >>> n_distances(np.array([1,2]), np.array([[3,-1], [2,1], [5, 2], [10, 1], [-2, -5]]))\n",
        "    array([3.60555128, 1.41421356, 4.        , 9.05538514, 7.61577311])\n",
        "    \"\"\"\n",
        "    \n",
        "    # ADICIONE O SEU CÓDIGO AQUI\n",
        "    return np.array([distance(p1, point) for point in points])"
      ],
      "execution_count": 3,
      "outputs": []
    },
    {
      "cell_type": "code",
      "metadata": {
        "colab": {
          "base_uri": "https://localhost:8080/"
        },
        "id": "7WYTOriD7K2x",
        "outputId": "08e5d687-eadf-4368-c10c-b259b7b48a07"
      },
      "source": [
        "n_distances(np.array([1,2]), np.array([[3,-1], [2,1], [5, 2], [10, 1], [-2, -5]]))"
      ],
      "execution_count": 4,
      "outputs": [
        {
          "output_type": "execute_result",
          "data": {
            "text/plain": [
              "array([3.60555128, 1.41421356, 4.        , 9.05538514, 7.61577311])"
            ]
          },
          "metadata": {
            "tags": []
          },
          "execution_count": 4
        }
      ]
    },
    {
      "cell_type": "markdown",
      "metadata": {
        "id": "8yGJkZpygjvM"
      },
      "source": [
        "## Teste"
      ]
    },
    {
      "cell_type": "code",
      "metadata": {
        "id": "2ub19M4sgjvM",
        "colab": {
          "base_uri": "https://localhost:8080/"
        },
        "outputId": "5638da65-9527-4e69-d96a-2b2cc46bbc4b"
      },
      "source": [
        "import doctest\n",
        "\n",
        "doctest.testmod(verbose=True)"
      ],
      "execution_count": 5,
      "outputs": [
        {
          "output_type": "stream",
          "text": [
            "\n",
            "PYDEV DEBUGGER WARNING:\n",
            "sys.settrace() should not be used when the debugger is being used.\n",
            "This may cause the debugger to stop working correctly.\n",
            "If this is needed, please check: \n",
            "http://pydev.blogspot.com/2007/06/why-cant-pydev-debugger-work-with.html\n",
            "to see how to restore the debug tracing back correctly.\n",
            "Call Location:\n",
            "  File \"/usr/lib/python3.7/doctest.py\", line 1487, in run\n",
            "    sys.settrace(save_trace)\n",
            "\n"
          ],
          "name": "stderr"
        },
        {
          "output_type": "stream",
          "text": [
            "Trying:\n",
            "    distance(np.array([0,0]), np.array([1,1]))\n",
            "Expecting:\n",
            "    1.4142135623730951\n",
            "ok\n",
            "Trying:\n",
            "    distance(np.array([1,2]), np.array([3,4]))\n",
            "Expecting:\n",
            "    2.8284271247461903\n",
            "ok\n",
            "Trying:\n",
            "    distance(np.array([5,2]), np.array([-2,-1]))\n",
            "Expecting:\n",
            "    7.615773105863909\n",
            "ok\n",
            "Trying:\n",
            "    n_distances(np.array([0,0]), np.array([[1,1]]))\n",
            "Expecting:\n",
            "    array([1.41421356])\n",
            "ok\n",
            "Trying:\n",
            "    n_distances(np.array([0,0]), np.array([[1,1], [2,2]]))\n",
            "Expecting:\n",
            "    array([1.41421356, 2.82842712])\n",
            "ok\n",
            "Trying:\n",
            "    n_distances(np.array([1,2]), np.array([[3,-1], [2,1], [5, 2], [10, 1], [-2, -5]]))\n",
            "Expecting:\n",
            "    array([3.60555128, 1.41421356, 4.        , 9.05538514, 7.61577311])\n",
            "ok\n",
            "1 items had no tests:\n",
            "    __main__\n",
            "2 items passed all tests:\n",
            "   3 tests in __main__.distance\n",
            "   3 tests in __main__.n_distances\n",
            "6 tests in 3 items.\n",
            "6 passed and 0 failed.\n",
            "Test passed.\n"
          ],
          "name": "stdout"
        },
        {
          "output_type": "execute_result",
          "data": {
            "text/plain": [
              "TestResults(failed=0, attempted=6)"
            ]
          },
          "metadata": {
            "tags": []
          },
          "execution_count": 5
        }
      ]
    }
  ]
}