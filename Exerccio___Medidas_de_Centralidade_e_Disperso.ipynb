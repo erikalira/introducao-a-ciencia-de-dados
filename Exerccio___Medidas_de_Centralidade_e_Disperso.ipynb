{
  "nbformat": 4,
  "nbformat_minor": 0,
  "metadata": {
    "kernelspec": {
      "display_name": "icd",
      "language": "python",
      "name": "icd"
    },
    "language_info": {
      "codemirror_mode": {
        "name": "ipython",
        "version": 3
      },
      "file_extension": ".py",
      "mimetype": "text/x-python",
      "name": "python",
      "nbconvert_exporter": "python",
      "pygments_lexer": "ipython3",
      "version": "3.7.7"
    },
    "colab": {
      "name": "Exerccio_-_Medidas_de_Centralidade_e_Disperso.ipynb",
      "provenance": [],
      "collapsed_sections": [],
      "toc_visible": true,
      "include_colab_link": true
    }
  },
  "cells": [
    {
      "cell_type": "markdown",
      "metadata": {
        "id": "view-in-github",
        "colab_type": "text"
      },
      "source": [
        "<a href=\"https://colab.research.google.com/github/erikalira/introducao-a-ciencia-de-dados/blob/main/Exerccio___Medidas_de_Centralidade_e_Disperso.ipynb\" target=\"_parent\"><img src=\"https://colab.research.google.com/assets/colab-badge.svg\" alt=\"Open In Colab\"/></a>"
      ]
    },
    {
      "cell_type": "markdown",
      "metadata": {
        "id": "JZ4irwiAqFzf"
      },
      "source": [
        "# Introdução à Ciência de Dados - UFPB\n",
        "Professor: Yuri Malheiros\n",
        "\n",
        "## Medidas de Centralidade e Dispersão"
      ]
    },
    {
      "cell_type": "markdown",
      "metadata": {
        "id": "MbwnGlSMqFzk"
      },
      "source": [
        "A partir do dataset `movies.csv` calcule a média, mediana e desvio padrão para as colunas:"
      ]
    },
    {
      "cell_type": "code",
      "metadata": {
        "id": "A_3IFZ2Gqd8Q"
      },
      "source": [
        "import pandas as pd\n",
        "import math\n",
        "\n",
        "movies = pd.read_csv(\"movies.csv\")"
      ],
      "execution_count": 1,
      "outputs": []
    },
    {
      "cell_type": "code",
      "metadata": {
        "id": "fNanVtHytIBa"
      },
      "source": [
        "def statistics (col) :\n",
        "  print(f\"media: {movies[col].mean()}\")\n",
        "  print(f\"mediana: {movies[col].median()}\")\n",
        "\n",
        "  print(f'\\ndiferença entre media e mediana: {math.fabs(movies[col].mean() - movies[col].median())}')\n",
        "  print(f\"desvio padrão: {movies[col].std()}\")"
      ],
      "execution_count": 2,
      "outputs": []
    },
    {
      "cell_type": "markdown",
      "metadata": {
        "id": "ejnQdd-4qFzk"
      },
      "source": [
        "### US Gross"
      ]
    },
    {
      "cell_type": "code",
      "metadata": {
        "colab": {
          "base_uri": "https://localhost:8080/"
        },
        "id": "YiPCZD8MqFzl",
        "outputId": "30c196b4-2e07-4808-ade2-1d54cb7b29b6"
      },
      "source": [
        "statistics('US Gross')"
      ],
      "execution_count": 3,
      "outputs": [
        {
          "output_type": "stream",
          "text": [
            "media: 44002085.163744524\n",
            "mediana: 22019465.5\n",
            "\n",
            "diferença entre media e mediana: 21982619.663744524\n",
            "desvio padrão: 62555311.39066204\n"
          ],
          "name": "stdout"
        }
      ]
    },
    {
      "cell_type": "markdown",
      "metadata": {
        "id": "Jan9c_vmqFzl"
      },
      "source": [
        "### Production Budget"
      ]
    },
    {
      "cell_type": "code",
      "metadata": {
        "colab": {
          "base_uri": "https://localhost:8080/"
        },
        "id": "xLtgLavzqFzl",
        "outputId": "4f84a469-775d-49ec-97ea-160d712743ca"
      },
      "source": [
        "statistics('Production Budget')"
      ],
      "execution_count": 4,
      "outputs": [
        {
          "output_type": "stream",
          "text": [
            "media: 31069171.4484375\n",
            "mediana: 20000000.0\n",
            "\n",
            "diferença entre media e mediana: 11069171.4484375\n",
            "desvio padrão: 35585913.44464446\n"
          ],
          "name": "stdout"
        }
      ]
    },
    {
      "cell_type": "markdown",
      "metadata": {
        "id": "cS7PAQrrqFzm"
      },
      "source": [
        "### Running Time"
      ]
    },
    {
      "cell_type": "code",
      "metadata": {
        "colab": {
          "base_uri": "https://localhost:8080/"
        },
        "id": "uJPepotRqFzm",
        "outputId": "a563f249-42db-4553-fa9b-d164c0eb6f46"
      },
      "source": [
        "statistics('Running Time (min)')"
      ],
      "execution_count": 5,
      "outputs": [
        {
          "output_type": "stream",
          "text": [
            "media: 110.19354838709677\n",
            "mediana: 107.0\n",
            "\n",
            "diferença entre media e mediana: 3.1935483870967687\n",
            "desvio padrão: 20.171013677535424\n"
          ],
          "name": "stdout"
        }
      ]
    },
    {
      "cell_type": "markdown",
      "metadata": {
        "id": "HP7soHwZqFzm"
      },
      "source": [
        "### IMDB Rating"
      ]
    },
    {
      "cell_type": "code",
      "metadata": {
        "colab": {
          "base_uri": "https://localhost:8080/"
        },
        "id": "NamfxNoaqFzm",
        "outputId": "6162ebd2-f681-4bb7-b667-a8951438f094"
      },
      "source": [
        "statistics('IMDB Rating')"
      ],
      "execution_count": 6,
      "outputs": [
        {
          "output_type": "stream",
          "text": [
            "media: 6.283467202141896\n",
            "mediana: 6.4\n",
            "\n",
            "diferença entre media e mediana: 0.11653279785810433\n",
            "desvio padrão: 1.2522899386004838\n"
          ],
          "name": "stdout"
        }
      ]
    },
    {
      "cell_type": "markdown",
      "metadata": {
        "id": "DDaPXrxKqFzm"
      },
      "source": [
        "### IMDB Votes"
      ]
    },
    {
      "cell_type": "code",
      "metadata": {
        "colab": {
          "base_uri": "https://localhost:8080/"
        },
        "id": "1zs_DxhGqFzn",
        "outputId": "e5479ab0-acd9-4438-c81c-6ad7affbd850"
      },
      "source": [
        "statistics('IMDB Votes')"
      ],
      "execution_count": 7,
      "outputs": [
        {
          "output_type": "stream",
          "text": [
            "media: 29908.64457831325\n",
            "mediana: 15106.0\n",
            "\n",
            "diferença entre media e mediana: 14802.644578313251\n",
            "desvio padrão: 44937.58233504965\n"
          ],
          "name": "stdout"
        }
      ]
    },
    {
      "cell_type": "markdown",
      "metadata": {
        "id": "5e5Kp_wwqFzn"
      },
      "source": [
        "### Análise dos Resultados\n",
        "\n",
        "Quais colunas tiveram valores muito diferentes entre média e mediana? Quais os seus desvios padrão?"
      ]
    },
    {
      "cell_type": "markdown",
      "metadata": {
        "id": "mcpOICJpqFzn"
      },
      "source": [
        "r: US Gross, Production Budget e IMDB Votes. 62555311.39066204, 11069171.4484375 e 14802.644578313251, respectivamente."
      ]
    },
    {
      "cell_type": "markdown",
      "metadata": {
        "id": "J_8KPr9rqFzn"
      },
      "source": [
        "Que conclusões podemos tirar desses resultados?"
      ]
    },
    {
      "cell_type": "markdown",
      "metadata": {
        "id": "wMA_8Yv0qFzn"
      },
      "source": [
        "r: para as colunas com altos valores de desvio padrão, existe alta dispersão. Ou seja, existem valores muito distintos. O que tornam a media uma metrica não muito boa nesses casos."
      ]
    }
  ]
}